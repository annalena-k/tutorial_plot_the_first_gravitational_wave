{
 "cells": [
  {
   "cell_type": "code",
   "execution_count": 1,
   "id": "96dfdd07005fe4c7",
   "metadata": {
    "ExecuteTime": {
     "end_time": "2025-08-31T19:21:23.709258Z",
     "start_time": "2025-08-31T19:21:23.476873Z"
    }
   },
   "outputs": [],
   "source": [
    "import matplotlib.pyplot as plt"
   ]
  },
  {
   "cell_type": "markdown",
   "id": "ea8129bd28f97bb",
   "metadata": {},
   "source": [
    "### Visualizing gravitational wave data\n",
    "\n",
    "Since we now know how to plot data, we get to the exciting part: In this notebook, we will load the gravitational wave data for the first observed gravitational wave signal!\n",
    " This signal is called `GW150914` where `GW` stands for `Gravitational Wave`, `15` refers to the year 2015, `09` means September, and `14` is the day on which the signal was measured.\n",
    " This was now almost 10 years ago!\n",
    "\n",
    "You can find the original discovery paper [here](https://arxiv.org/abs/1602.03840). If you look at Figure 6, you can see the gravitational wave signal together with a simulation. Can you find out what the names of the detectors are in which the data was observed?\n",
    "We will make a plot similar to this.\n",
    "\n",
    "(For reference, the data was downloaded and pre-processed with `pycbc` and [this notebook](https://colab.research.google.com/github/gwastro/pycbc-tutorials/blob/master/tutorial/2_VisualizationSignalProcessing.ipynb).)"
   ]
  },
  {
   "cell_type": "markdown",
   "id": "f637d0d75b2323d5",
   "metadata": {},
   "source": [
    "### 1) Loading the data\n",
    "Of course, we do not want to type in all the values (as we did for the temperature in the last notebook).\n",
    "Instead, we load the data from a file which has the format `.pkl` originating from the `pickle` package.\n",
    "- First, we load the package:"
   ]
  },
  {
   "cell_type": "code",
   "execution_count": 2,
   "id": "54b3b29172335d0f",
   "metadata": {},
   "outputs": [],
   "source": [
    "import pickle"
   ]
  },
  {
   "cell_type": "markdown",
   "id": "504e1d4bc48e11ea",
   "metadata": {},
   "source": [
    "- We need to specify the file name from which to load the data which is in the `data` subfolder. For this, you will have to find out the correct relative path. If you have started the jupyter lab server from the `tutorial_plot_first_gravitational_wave/` folder, the following path name should work.\n",
    "- We use the library `os` to join the directory name with the file name."
   ]
  },
  {
   "cell_type": "code",
   "execution_count": 10,
   "id": "9c0c14ab44107ef5",
   "metadata": {},
   "outputs": [
    {
     "name": "stdout",
     "output_type": "stream",
     "text": [
      "./data/GW150914_data.pkl\n"
     ]
    }
   ],
   "source": [
    "import os\n",
    "dir_name = \".\" #\"your_absolute_path_to/tutorial_plot_the_first_gravitational_wave\"\n",
    "filename = os.path.join(dir_name, \"data/GW150914_data.pkl\")\n",
    "print(filename)"
   ]
  },
  {
   "cell_type": "markdown",
   "id": "b8724c0da163c657",
   "metadata": {},
   "source": [
    "- We open the file with `open(filename, \"rb\")` where `rb` stands for `read bytes` and use `pickle.load(...)` to load the data into the variable `gw_data`."
   ]
  },
  {
   "cell_type": "code",
   "execution_count": 4,
   "id": "64bf44f69ba1d800",
   "metadata": {
    "ExecuteTime": {
     "end_time": "2025-08-31T19:21:23.715846Z",
     "start_time": "2025-08-31T19:21:23.713305Z"
    }
   },
   "outputs": [],
   "source": [
    "with open(filename, \"rb\") as f:\n",
    "    gw_data = pickle.load(f)"
   ]
  },
  {
   "cell_type": "markdown",
   "id": "c6fefb7b9a237685",
   "metadata": {},
   "source": [
    "### 2) Inspecting the data\n",
    "- But what is type of variable is `gw_data`? Can you check the type? What data does it contain?\n",
    "- What does `H1` and `L1` probably stand for?"
   ]
  },
  {
   "cell_type": "code",
   "execution_count": 5,
   "id": "df581a27f79c8b69",
   "metadata": {
    "ExecuteTime": {
     "end_time": "2025-08-31T19:21:23.780510Z",
     "start_time": "2025-08-31T19:21:23.776757Z"
    }
   },
   "outputs": [],
   "source": [
    "# Write code for your explorations here"
   ]
  },
  {
   "cell_type": "markdown",
   "id": "eb399178",
   "metadata": {},
   "source": [
    "Once you think you understand the data, we can move on to the plotting."
   ]
  },
  {
   "cell_type": "markdown",
   "id": "fa4f721c",
   "metadata": {},
   "source": [
    "### 3) Plotting the data\n",
    "We now want to make a plot where we show the `sample_times` on the x-axis and the `strain` on the y-axis. The strain corresponds to the change in intensity measured with the laser.\n",
    "- Can you show the strain for both detectors in the same plot (with different colors) and include the detector names in the legend?\n",
    "- Does it make sense to show individual points with `-o`?\n",
    "- Don't forget to put x- and y-axis labels."
   ]
  },
  {
   "cell_type": "code",
   "execution_count": 6,
   "id": "79fbd15999ef7f08",
   "metadata": {
    "ExecuteTime": {
     "end_time": "2025-08-31T19:21:23.898983Z",
     "start_time": "2025-08-31T19:21:23.828122Z"
    }
   },
   "outputs": [],
   "source": [
    "# Write plotting code here"
   ]
  },
  {
   "cell_type": "markdown",
   "id": "cf906c05",
   "metadata": {},
   "source": [
    "- Can you see the large number added to the values on the x-axis? Do you have an idea where this is coming from?\n",
    "- What is still different from the plot in the original paper?\n",
    "- What do you think: Why are the signals from both detectors not overlapping exactly?"
   ]
  },
  {
   "cell_type": "markdown",
   "id": "26f5f7d4",
   "metadata": {},
   "source": [
    "### Do not read further if you don't have an answer to the above questions\n",
    "The reason for the signals not aligning perfectly is that the gravitational wave arrived in the two detectors at different times! The reason is that the detectors are ~3000 kilometer apart (one on each side of the US) and light needs 7 milliseconds to travel from one detector to the other. Since gravitational waves move with the speed of light, we expect the gravitational wave to arrive 7 ms earlier in one detector.\n",
    "If we want to compare the signals from the two detectors, we have to remove this time shift.\n",
    "\n",
    "- How many milliseconds are in a second?\n",
    "- Can you add x seconds to the `sample_times` of the Livingston detector?\n",
    "- Additionally, you need to multiply the Livingston `strain` by $\\cdot (-1)$. (Why is too difficult to explain here.)\n",
    "\n",
    "Can you re-do the plot from above?"
   ]
  },
  {
   "cell_type": "code",
   "execution_count": 7,
   "id": "b7d3570404949e78",
   "metadata": {
    "ExecuteTime": {
     "end_time": "2025-08-31T19:21:23.968937Z",
     "start_time": "2025-08-31T19:21:23.906569Z"
    }
   },
   "outputs": [],
   "source": [
    "# Write plotting code here"
   ]
  },
  {
   "cell_type": "markdown",
   "id": "ac57c9d1",
   "metadata": {},
   "source": [
    "### 3) Compare with already time-shifted data\n",
    "- To check whether your plot from above is correct, you can load the data from the file `data/GW150914_data_time_shifted.pkl`.\n",
    "- Please load the data with `pickle` and plot the strains (without time-shifts).\n",
    "\n",
    "The result should look exactly like the plot where you applied the time-shift!"
   ]
  },
  {
   "cell_type": "code",
   "execution_count": 8,
   "id": "5b4a4952f760ba1a",
   "metadata": {
    "ExecuteTime": {
     "end_time": "2025-08-31T19:21:24.037391Z",
     "start_time": "2025-08-31T19:21:23.975259Z"
    }
   },
   "outputs": [],
   "source": [
    "# Load the new data here (don't forget to give the variables new names such that you do not overwrite the data loaded above!)\n"
   ]
  },
  {
   "cell_type": "code",
   "execution_count": 9,
   "id": "da36b53a93d11d79",
   "metadata": {
    "ExecuteTime": {
     "end_time": "2025-08-31T19:21:24.045860Z",
     "start_time": "2025-08-31T19:21:24.044506Z"
    }
   },
   "outputs": [],
   "source": [
    "# Make the plot here"
   ]
  }
 ],
 "metadata": {
  "kernelspec": {
   "display_name": "venv-tutorial-plot-gw",
   "language": "python",
   "name": "python3"
  },
  "language_info": {
   "codemirror_mode": {
    "name": "ipython",
    "version": 3
   },
   "file_extension": ".py",
   "mimetype": "text/x-python",
   "name": "python",
   "nbconvert_exporter": "python",
   "pygments_lexer": "ipython3",
   "version": "3.12.7"
  }
 },
 "nbformat": 5,
 "nbformat_minor": 9
}
